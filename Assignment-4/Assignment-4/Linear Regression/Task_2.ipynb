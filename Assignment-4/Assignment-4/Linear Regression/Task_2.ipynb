{
 "cells": [
  {
   "cell_type": "markdown",
   "id": "a88e802b",
   "metadata": {},
   "source": [
    "TASK-2:Multiple Linear Regression "
   ]
  },
  {
   "cell_type": "markdown",
   "id": "c30eae83",
   "metadata": {},
   "source": [
    "● Use the same dataset or load another dataset with at least 4 numeric \n",
    "features. \n",
    "● Predict the target variable using multiple independent variables. \n",
    "● Evaluate the model using: \n",
    "○ R-squared \n",
    "○ Mean Squared Error (MSE) \n",
    "○ Root Mean Squared Error (RMSE) \n",
    "● Display the coefficients of each feature. "
   ]
  },
  {
   "cell_type": "code",
   "execution_count": 2,
   "id": "2175a300",
   "metadata": {},
   "outputs": [],
   "source": [
    "import pandas as pd\n",
    "import numpy as np\n",
    "import matplotlib.pyplot as plt\n",
    "from sklearn.model_selection import train_test_split\n",
    "from sklearn.datasets import fetch_california_housing\n",
    "from sklearn.linear_model import LinearRegression\n",
    "from sklearn.metrics import r2_score, mean_squared_error\n"
   ]
  },
  {
   "cell_type": "code",
   "execution_count": 3,
   "id": "ad6836a3",
   "metadata": {},
   "outputs": [
    {
     "name": "stdout",
     "output_type": "stream",
     "text": [
      "   MedInc  HouseAge  AveRooms  AveBedrms  Population  AveOccup  Latitude  \\\n",
      "0  8.3252      41.0  6.984127   1.023810       322.0  2.555556     37.88   \n",
      "1  8.3014      21.0  6.238137   0.971880      2401.0  2.109842     37.86   \n",
      "2  7.2574      52.0  8.288136   1.073446       496.0  2.802260     37.85   \n",
      "3  5.6431      52.0  5.817352   1.073059       558.0  2.547945     37.85   \n",
      "4  3.8462      52.0  6.281853   1.081081       565.0  2.181467     37.85   \n",
      "5  4.0368      52.0  4.761658   1.103627       413.0  2.139896     37.85   \n",
      "6  3.6591      52.0  4.931907   0.951362      1094.0  2.128405     37.84   \n",
      "7  3.1200      52.0  4.797527   1.061824      1157.0  1.788253     37.84   \n",
      "8  2.0804      42.0  4.294118   1.117647      1206.0  2.026891     37.84   \n",
      "9  3.6912      52.0  4.970588   0.990196      1551.0  2.172269     37.84   \n",
      "\n",
      "   Longitude  Target  \n",
      "0    -122.23   4.526  \n",
      "1    -122.22   3.585  \n",
      "2    -122.24   3.521  \n",
      "3    -122.25   3.413  \n",
      "4    -122.25   3.422  \n",
      "5    -122.25   2.697  \n",
      "6    -122.25   2.992  \n",
      "7    -122.25   2.414  \n",
      "8    -122.26   2.267  \n",
      "9    -122.25   2.611  \n"
     ]
    }
   ],
   "source": [
    "from sklearn.datasets import fetch_california_housing\n",
    "import pandas as pd\n",
    "\n",
    "housing = fetch_california_housing()\n",
    "df_housing = pd.DataFrame(housing.data, columns=housing.feature_names)\n",
    "df_housing['Target'] = housing.target\n",
    "\n",
    "print(df_housing.head(10))\n"
   ]
  },
  {
   "cell_type": "code",
   "execution_count": 4,
   "id": "61050db9",
   "metadata": {},
   "outputs": [
    {
     "name": "stdout",
     "output_type": "stream",
     "text": [
      "<class 'pandas.core.frame.DataFrame'>\n",
      "RangeIndex: 20640 entries, 0 to 20639\n",
      "Data columns (total 9 columns):\n",
      " #   Column      Non-Null Count  Dtype  \n",
      "---  ------      --------------  -----  \n",
      " 0   MedInc      20640 non-null  float64\n",
      " 1   HouseAge    20640 non-null  float64\n",
      " 2   AveRooms    20640 non-null  float64\n",
      " 3   AveBedrms   20640 non-null  float64\n",
      " 4   Population  20640 non-null  float64\n",
      " 5   AveOccup    20640 non-null  float64\n",
      " 6   Latitude    20640 non-null  float64\n",
      " 7   Longitude   20640 non-null  float64\n",
      " 8   Target      20640 non-null  float64\n",
      "dtypes: float64(9)\n",
      "memory usage: 1.4 MB\n"
     ]
    }
   ],
   "source": [
    "df_housing.info()\n"
   ]
  },
  {
   "cell_type": "code",
   "execution_count": 5,
   "id": "da580c41",
   "metadata": {},
   "outputs": [
    {
     "data": {
      "text/plain": [
       "MedInc        0\n",
       "HouseAge      0\n",
       "AveRooms      0\n",
       "AveBedrms     0\n",
       "Population    0\n",
       "AveOccup      0\n",
       "Latitude      0\n",
       "Longitude     0\n",
       "Target        0\n",
       "dtype: int64"
      ]
     },
     "execution_count": 5,
     "metadata": {},
     "output_type": "execute_result"
    }
   ],
   "source": [
    "df_housing.isnull().sum()\n"
   ]
  },
  {
   "cell_type": "code",
   "execution_count": 6,
   "id": "ab174bcc",
   "metadata": {},
   "outputs": [],
   "source": [
    "input_features = housing.feature_names\n",
    "output_label = housing.target_names if hasattr(housing, 'target_names') else ['Target']\n"
   ]
  },
  {
   "cell_type": "code",
   "execution_count": 8,
   "id": "1df715b9",
   "metadata": {},
   "outputs": [
    {
     "data": {
      "text/plain": [
       "0    4.526\n",
       "1    3.585\n",
       "2    3.521\n",
       "3    3.413\n",
       "4    3.422\n",
       "Name: Target, dtype: float64"
      ]
     },
     "execution_count": 8,
     "metadata": {},
     "output_type": "execute_result"
    }
   ],
   "source": [
    "X_data = df_housing[input_features]\n",
    "Y_data = df_housing['Target']\n",
    "\n",
    "X_data.head()\n",
    "Y_data.head()\n"
   ]
  },
  {
   "cell_type": "code",
   "execution_count": 9,
   "id": "8be73867",
   "metadata": {},
   "outputs": [],
   "source": [
    "X_array = X_data.values\n",
    "Y_array = Y_data.values.ravel()\n"
   ]
  },
  {
   "cell_type": "code",
   "execution_count": 10,
   "id": "d1e27eea",
   "metadata": {},
   "outputs": [
    {
     "name": "stdout",
     "output_type": "stream",
     "text": [
      "(20640, 8) (20640,)\n"
     ]
    }
   ],
   "source": [
    "print(X_array.shape, Y_array.shape)\n",
    "\n"
   ]
  },
  {
   "cell_type": "code",
   "execution_count": 11,
   "id": "3d83b757",
   "metadata": {},
   "outputs": [],
   "source": [
    "train_x, test_x, train_y, test_y = train_test_split(X_array, Y_array, test_size=0.8, random_state=42)\n"
   ]
  },
  {
   "cell_type": "code",
   "execution_count": 12,
   "id": "a1663949",
   "metadata": {},
   "outputs": [
    {
     "name": "stdout",
     "output_type": "stream",
     "text": [
      "-37.764304845475024\n"
     ]
    },
    {
     "data": {
      "text/plain": [
       "array([ 4.25546113e-01,  9.15501577e-03, -9.43236037e-02,  6.74748060e-01,\n",
       "        4.88938032e-06, -1.50778303e-03, -4.27714004e-01, -4.42739701e-01])"
      ]
     },
     "execution_count": 12,
     "metadata": {},
     "output_type": "execute_result"
    }
   ],
   "source": [
    "mlr = LinearRegression()\n",
    "mlr.fit(train_x, train_y)\n",
    "\n",
    "predicted_y = mlr.predict(test_x)\n",
    "\n",
    "print(mlr.intercept_)\n",
    "mlr.coef_\n"
   ]
  },
  {
   "cell_type": "code",
   "execution_count": 13,
   "id": "e475f1cf",
   "metadata": {},
   "outputs": [
    {
     "name": "stdout",
     "output_type": "stream",
     "text": [
      "R² Score: 0.6070\n",
      "MSE: 0.5218\n",
      "RMSE: 0.7224\n"
     ]
    }
   ],
   "source": [
    "r_squared = r2_score(test_y, predicted_y)\n",
    "mse_value = mean_squared_error(test_y, predicted_y)\n",
    "rmse_value = np.sqrt(mse_value)\n",
    "\n",
    "print(f\"R² Score: {r_squared:.4f}\")\n",
    "print(f\"MSE: {mse_value:.4f}\")\n",
    "print(f\"RMSE: {rmse_value:.4f}\")\n"
   ]
  },
  {
   "cell_type": "code",
   "execution_count": 14,
   "id": "1efc169c",
   "metadata": {},
   "outputs": [
    {
     "name": "stdout",
     "output_type": "stream",
     "text": [
      "\n",
      "Feature Coefficients:\n",
      "      Feature    Weight\n",
      "0      MedInc  0.425546\n",
      "1    HouseAge  0.009155\n",
      "2    AveRooms -0.094324\n",
      "3   AveBedrms  0.674748\n",
      "4  Population  0.000005\n",
      "5    AveOccup -0.001508\n",
      "6    Latitude -0.427714\n",
      "7   Longitude -0.442740\n"
     ]
    }
   ],
   "source": [
    "coef_table = pd.DataFrame({\n",
    "    'Feature': housing.feature_names,\n",
    "    'Weight': mlr.coef_\n",
    "})\n",
    "\n",
    "print(\"\\nFeature Coefficients:\")\n",
    "print(coef_table)\n"
   ]
  }
 ],
 "metadata": {
  "kernelspec": {
   "display_name": "Python 3",
   "language": "python",
   "name": "python3"
  },
  "language_info": {
   "codemirror_mode": {
    "name": "ipython",
    "version": 3
   },
   "file_extension": ".py",
   "mimetype": "text/x-python",
   "name": "python",
   "nbconvert_exporter": "python",
   "pygments_lexer": "ipython3",
   "version": "3.12.3"
  }
 },
 "nbformat": 4,
 "nbformat_minor": 5
}

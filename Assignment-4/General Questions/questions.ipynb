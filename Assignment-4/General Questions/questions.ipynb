{
 "cells": [
  {
   "cell_type": "markdown",
   "id": "9209a703",
   "metadata": {},
   "source": [
    "Answer the following Questions:-"
   ]
  },
  {
   "cell_type": "markdown",
   "id": "69195be5",
   "metadata": {},
   "source": [
    "1. What are the assumptions of linear regression?\n",
    "\n",
    "\n",
    "\n",
    "It assumes a linear relationship between variables, constant error variance (homoscedasticity), no multicollinearity, and normally distributed residuals. Observations should also be independent.\n",
    "\n"
   ]
  },
  {
   "cell_type": "markdown",
   "id": "e8d574ca",
   "metadata": {},
   "source": [
    "2. When should you use logistic regression instead of linear regression?\n",
    "\n",
    "\n",
    "Use logistic regression when the target is categorical (especially binary). It predicts class probabilities instead of continuous values.\n",
    "\n"
   ]
  },
  {
   "cell_type": "markdown",
   "id": "194b159c",
   "metadata": {},
   "source": [
    "3. What is the interpretation of coefficients in logistic regression?\n",
    "\n",
    "\n",
    "Coefficients represent the change in log-odds for a one-unit increase in a feature. Exponentiating them gives the odds ratio.\n",
    "\n"
   ]
  },
  {
   "cell_type": "markdown",
   "id": "454db4a7",
   "metadata": {},
   "source": [
    "4. What is the difference between sigmoid and softmax functions?\n",
    "\n",
    "\n",
    "Sigmoid is used for binary classification and outputs values between 0 and 1. Softmax is for multiclass problems and outputs probabilities across all classes.\n",
    "\n"
   ]
  },
  {
   "cell_type": "markdown",
   "id": "bbe629b8",
   "metadata": {},
   "source": [
    "5. Why is R-squared not suitable for evaluating logistic regression models?\n",
    "\n",
    "\n",
    "R-squared measures variance explained, which applies to regression, not classification. Logistic models are better evaluated using accuracy, F1-score, or AUC.\n",
    "\n"
   ]
  }
 ],
 "metadata": {
  "language_info": {
   "name": "python"
  }
 },
 "nbformat": 4,
 "nbformat_minor": 5
}

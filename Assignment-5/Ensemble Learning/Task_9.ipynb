{
 "cells": [
  {
   "cell_type": "markdown",
   "id": "fe767033",
   "metadata": {},
   "source": [
    "Task 9: AdaBoost or Gradient Boosting \n"
   ]
  },
  {
   "cell_type": "markdown",
   "id": "7e974966",
   "metadata": {},
   "source": [
    "● Train an AdaBoostClassifier or GradientBoostingClassifier. \n",
    "● Use a suitable dataset. \n",
    "● Compare it with Random Forest and Decision Tree in terms of: \n",
    "○ Accuracy \n",
    "○ F1-score \n",
    "○ Training time (optional)"
   ]
  },
  {
   "cell_type": "code",
   "execution_count": 1,
   "id": "f0f8aa8f",
   "metadata": {},
   "outputs": [],
   "source": [
    "import pandas as pd\n",
    "from sklearn.model_selection import train_test_split\n",
    "from sklearn.preprocessing import LabelEncoder\n",
    "from sklearn.tree import DecisionTreeClassifier\n",
    "from sklearn.ensemble import RandomForestClassifier, AdaBoostClassifier, GradientBoostingClassifier\n",
    "from sklearn.metrics import accuracy_score, f1_score\n"
   ]
  },
  {
   "cell_type": "code",
   "execution_count": 2,
   "id": "54eaa63f",
   "metadata": {},
   "outputs": [],
   "source": [
    "df = pd.read_csv(\"titanic.csv\")\n",
    "\n",
    "df = df.drop([\"Cabin\", \"Ticket\", \"Name\", \"PassengerId\"], axis=1)\n",
    "\n",
    "df[\"Age\"] = df[\"Age\"].fillna(df[\"Age\"].median())\n",
    "df[\"Embarked\"] = df[\"Embarked\"].fillna(df[\"Embarked\"].mode()[0])\n",
    "\n",
    "encoder = LabelEncoder()\n",
    "df[\"Sex\"] = encoder.fit_transform(df[\"Sex\"])\n",
    "df[\"Embarked\"] = encoder.fit_transform(df[\"Embarked\"])\n",
    "\n",
    "features = df[[\"Pclass\", \"Sex\", \"Age\", \"SibSp\", \"Parch\", \"Fare\", \"Embarked\"]]\n",
    "target = df[\"Survived\"]\n",
    "\n",
    "X_train, X_test, y_train, y_test = train_test_split(features, target, test_size=0.2, random_state=42)\n"
   ]
  },
  {
   "cell_type": "code",
   "execution_count": 5,
   "id": "7d8be6b5",
   "metadata": {},
   "outputs": [],
   "source": [
    "import time\n",
    "\n",
    "# Train and evaluate Decision Tree, Random Forest, and AdaBoost classifiers\n",
    "\n",
    "results = {}\n",
    "\n",
    "start = time.time()\n",
    "dt = DecisionTreeClassifier(random_state=42)\n",
    "dt.fit(X_train, y_train)\n",
    "end = time.time()\n",
    "y_pred_dt = dt.predict(X_test)\n",
    "results['Decision Tree'] = {\n",
    "    'accuracy': accuracy_score(y_test, y_pred_dt),\n",
    "    'f1': f1_score(y_test, y_pred_dt),\n",
    "    'time': end - start\n",
    "}\n",
    "\n",
    "start = time.time()\n",
    "rf = RandomForestClassifier(random_state=42)\n",
    "rf.fit(X_train, y_train)\n",
    "end = time.time()\n",
    "y_pred_rf = rf.predict(X_test)\n",
    "results['Random Forest'] = {\n",
    "    'accuracy': accuracy_score(y_test, y_pred_rf),\n",
    "    'f1': f1_score(y_test, y_pred_rf),\n",
    "    'time': end - start\n",
    "}\n",
    "\n",
    "start = time.time()\n",
    "ab = AdaBoostClassifier(random_state=42)\n",
    "ab.fit(X_train, y_train)\n",
    "end = time.time()\n",
    "y_pred_ab = ab.predict(X_test)\n",
    "results['AdaBoost'] = {\n",
    "    'accuracy': accuracy_score(y_test, y_pred_ab),\n",
    "    'f1': f1_score(y_test, y_pred_ab),\n",
    "    'time': end - start\n",
    "}\n"
   ]
  },
  {
   "cell_type": "code",
   "execution_count": 6,
   "id": "422d3543",
   "metadata": {},
   "outputs": [
    {
     "name": "stdout",
     "output_type": "stream",
     "text": [
      "Model Comparison:\n",
      "\n",
      "Decision Tree:\n",
      "Accuracy: 0.7821\n",
      "F1-Score: 0.7451\n",
      "Training Time: 0.0063 seconds\n",
      "\n",
      "Random Forest:\n",
      "Accuracy: 0.8212\n",
      "F1-Score: 0.7746\n",
      "Training Time: 0.0957 seconds\n",
      "\n",
      "AdaBoost:\n",
      "Accuracy: 0.7989\n",
      "F1-Score: 0.7429\n",
      "Training Time: 0.0467 seconds\n"
     ]
    }
   ],
   "source": [
    "print(\"Model Comparison:\")\n",
    "for model in results:\n",
    "    print(f\"\\n{model}:\")\n",
    "    print(f\"Accuracy: {results[model]['accuracy']:.4f}\")\n",
    "    print(f\"F1-Score: {results[model]['f1']:.4f}\")\n",
    "    print(f\"Training Time: {results[model]['time']:.4f} seconds\")\n"
   ]
  }
 ],
 "metadata": {
  "kernelspec": {
   "display_name": "Python 3",
   "language": "python",
   "name": "python3"
  },
  "language_info": {
   "codemirror_mode": {
    "name": "ipython",
    "version": 3
   },
   "file_extension": ".py",
   "mimetype": "text/x-python",
   "name": "python",
   "nbconvert_exporter": "python",
   "pygments_lexer": "ipython3",
   "version": "3.12.3"
  }
 },
 "nbformat": 4,
 "nbformat_minor": 5
}

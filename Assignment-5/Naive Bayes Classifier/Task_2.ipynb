{
 "cells": [
  {
   "cell_type": "markdown",
   "id": "56de3919",
   "metadata": {},
   "source": [
    "Task 2: Spam Detection using MultinomialNB "
   ]
  },
  {
   "cell_type": "markdown",
   "id": "71e0ee03",
   "metadata": {},
   "source": [
    "● Load a text dataset (e.g., SMS Spam Collection or any public text \n",
    "dataset). \n",
    "● Preprocess using CountVectorizer or TfidfVectorizer. \n",
    "● Train a MultinomialNB classifier. \n",
    "● Evaluate: \n",
    "○ Accuracy \n",
    "○ Precision \n",
    "○ Recall \n",
    "○ Confusion Matrix "
   ]
  },
  {
   "cell_type": "code",
   "execution_count": 1,
   "id": "fdd98e1d",
   "metadata": {},
   "outputs": [
    {
     "name": "stdout",
     "output_type": "stream",
     "text": [
      "Requirement already satisfied: nltk in c:\\users\\hp\\appdata\\local\\programs\\python\\python312\\lib\\site-packages (3.9.1)\n",
      "Requirement already satisfied: click in c:\\users\\hp\\appdata\\local\\programs\\python\\python312\\lib\\site-packages (from nltk) (8.2.1)\n",
      "Requirement already satisfied: joblib in c:\\users\\hp\\appdata\\local\\programs\\python\\python312\\lib\\site-packages (from nltk) (1.5.1)\n",
      "Requirement already satisfied: regex>=2021.8.3 in c:\\users\\hp\\appdata\\local\\programs\\python\\python312\\lib\\site-packages (from nltk) (2025.7.34)\n",
      "Requirement already satisfied: tqdm in c:\\users\\hp\\appdata\\local\\programs\\python\\python312\\lib\\site-packages (from nltk) (4.67.1)\n",
      "Requirement already satisfied: colorama in c:\\users\\hp\\appdata\\roaming\\python\\python312\\site-packages (from click->nltk) (0.4.6)\n",
      "Note: you may need to restart the kernel to use updated packages.\n"
     ]
    },
    {
     "name": "stderr",
     "output_type": "stream",
     "text": [
      "\n",
      "[notice] A new release of pip is available: 24.0 -> 25.1.1\n",
      "[notice] To update, run: python.exe -m pip install --upgrade pip\n",
      "[nltk_data] Downloading package stopwords to\n",
      "[nltk_data]     C:\\Users\\HP\\AppData\\Roaming\\nltk_data...\n",
      "[nltk_data]   Package stopwords is already up-to-date!\n"
     ]
    },
    {
     "name": "stdout",
     "output_type": "stream",
     "text": [
      "Accuracy: 0.9739910313901345\n",
      "Precision: 1.0\n",
      "Recall: 0.7913669064748201\n",
      "\n",
      "Confusion Matrix:\n",
      " [[976   0]\n",
      " [ 29 110]]\n",
      "\n",
      "Classification Report:\n",
      "               precision    recall  f1-score   support\n",
      "\n",
      "           0       0.97      1.00      0.99       976\n",
      "           1       1.00      0.79      0.88       139\n",
      "\n",
      "    accuracy                           0.97      1115\n",
      "   macro avg       0.99      0.90      0.93      1115\n",
      "weighted avg       0.97      0.97      0.97      1115\n",
      "\n"
     ]
    }
   ],
   "source": [
    "%pip install nltk\n",
    "\n",
    "import pandas as pd\n",
    "import numpy as np\n",
    "import re\n",
    "import nltk\n",
    "import matplotlib.pyplot as plt\n",
    "from nltk.corpus import stopwords\n",
    "from nltk.stem.porter import PorterStemmer\n",
    "from sklearn.model_selection import train_test_split\n",
    "from sklearn.feature_extraction.text import TfidfVectorizer\n",
    "from sklearn.naive_bayes import MultinomialNB\n",
    "from sklearn.metrics import accuracy_score, precision_score, recall_score, confusion_matrix, classification_report\n",
    "\n",
    "nltk.download('stopwords')\n",
    "stop_words = set(stopwords.words('english'))\n",
    "ps = PorterStemmer()\n",
    "\n",
    "def clean_text(msg):\n",
    "    msg = msg.lower()\n",
    "    msg = re.sub(r'[^a-z\\s]', '', msg)\n",
    "    tokens = msg.split()\n",
    "    tokens = [ps.stem(word) for word in tokens if word not in stop_words]\n",
    "    return ' '.join(tokens)\n",
    "\n",
    "df = pd.read_csv(\"spam.csv\", encoding=\"latin-1\")[['v1', 'v2']]\n",
    "df.columns = ['label', 'message']\n",
    "df['label'] = df['label'].map({'ham': 0, 'spam': 1})\n",
    "df['message'] = df['message'].apply(clean_text)\n",
    "\n",
    "texts = df['message'].values\n",
    "labels = df['label'].values\n",
    "\n",
    "X_train, X_test, y_train, y_test = train_test_split(\n",
    "    texts, labels, test_size=0.2, random_state=1\n",
    ")\n",
    "\n",
    "tfidf = TfidfVectorizer()\n",
    "X_train_tf = tfidf.fit_transform(X_train)\n",
    "X_test_tf = tfidf.transform(X_test)\n",
    "\n",
    "clf = MultinomialNB()\n",
    "clf.fit(X_train_tf, y_train)\n",
    "\n",
    "preds = clf.predict(X_test_tf)\n",
    "\n",
    "print(\"Accuracy:\", accuracy_score(y_test, preds))\n",
    "print(\"Precision:\", precision_score(y_test, preds))\n",
    "print(\"Recall:\", recall_score(y_test, preds))\n",
    "print(\"\\nConfusion Matrix:\\n\", confusion_matrix(y_test, preds))\n",
    "print(\"\\nClassification Report:\\n\", classification_report(y_test, preds))\n"
   ]
  },
  {
   "cell_type": "code",
   "execution_count": 2,
   "id": "19bd330f",
   "metadata": {},
   "outputs": [
    {
     "data": {
      "image/png": "[encoded data removed]",
      "text/plain": [
       "<Figure size 640x480 with 2 Axes>"
      ]
     },
     "metadata": {},
     "output_type": "display_data"
    }
   ],
   "source": [
    "import seaborn as sns\n",
    "import matplotlib.pyplot as plt\n",
    "\n",
    "labels = ['Ham', 'Spam']\n",
    "sns.heatmap(confusion_matrix(y_test, preds), annot=True, cmap='YlGnBu', fmt='d',\n",
    "            xticklabels=labels, yticklabels=labels)\n",
    "plt.title('Spam Classification – Confusion Matrix')\n",
    "plt.xlabel('Predicted Label')\n",
    "plt.ylabel('True Label')\n",
    "plt.tight_layout()\n",
    "plt.show()\n"
   ]
  }
 ],
 "metadata": {
  "kernelspec": {
   "display_name": "Python 3",
   "language": "python",
   "name": "python3"
  },
  "language_info": {
   "codemirror_mode": {
    "name": "ipython",
    "version": 3
   },
   "file_extension": ".py",
   "mimetype": "text/x-python",
   "name": "python",
   "nbconvert_exporter": "python",
   "pygments_lexer": "ipython3",
   "version": "3.12.3"
  }
 },
 "nbformat": 4,
 "nbformat_minor": 5
}
